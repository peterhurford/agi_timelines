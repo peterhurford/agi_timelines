{
 "cells": [
  {
   "cell_type": "code",
   "execution_count": 1,
   "id": "80c7139f-0c0a-47bb-918d-adb0a3d03769",
   "metadata": {},
   "outputs": [
    {
     "name": "stdout",
     "output_type": "stream",
     "text": [
      "Loaded libraries\n"
     ]
    }
   ],
   "source": [
    "import squigglepy as sq\n",
    "from datetime import datetime\n",
    "from libs import run_model, calculate_doubling_time\n",
    "\n",
    "\n",
    "O3_LAUNCH_DATE = datetime(2025, 4, 16)\n",
    "CLAUDE_3P7_LAUNCH_DATE = datetime(2025, 2, 24)\n",
    "\n",
    "print('Loaded libraries')"
   ]
  },
  {
   "cell_type": "code",
   "execution_count": 2,
   "id": "0a5c04a0-69fe-40d8-b26b-fe7c2ae9e6b5",
   "metadata": {},
   "outputs": [
    {
     "name": "stderr",
     "output_type": "stream",
     "text": [
      "100%|██████████████████████████████████████████████████████████████████████████| 100000/100000 [00:06<00:00, 14709.82it/s]\n",
      "100%|██████████████████████████████████████████████████████████████████████████| 100000/100000 [00:07<00:00, 12948.94it/s]\n"
     ]
    },
    {
     "name": "stdout",
     "output_type": "stream",
     "text": [
      "{1: 1104,\n",
      " 5: 1254,\n",
      " 10: 1344,\n",
      " 20: 1461,\n",
      " 30: 1551,\n",
      " 40: 1634,\n",
      " 50: 1714,\n",
      " 60: 1800,\n",
      " 70: 1897,\n",
      " 80: 2015,\n",
      " 90: 2189,\n",
      " 95: 2345,\n",
      " 99: 2671}\n",
      "\n",
      "-\n",
      "\n",
      "{1: '2028 Mar 05',\n",
      " 5: '2028 Aug 01',\n",
      " 10: '2028 Oct 31',\n",
      " 20: '2029 Feb 24',\n",
      " 30: '2029 May 26',\n",
      " 40: '2029 Aug 16',\n",
      " 50: '2029 Nov 05',\n",
      " 60: '2030 Jan 29',\n",
      " 70: '2030 May 06',\n",
      " 80: '2030 Sep 02',\n",
      " 90: '2031 Feb 23',\n",
      " 95: '2031 Jul 29',\n",
      " 99: '2032 Jun 19'}\n"
     ]
    }
   ],
   "source": [
    "def metr_model():\n",
    "    days = calculate_doubling_time(start_task_length=1, agi_task_length=167, doubling_time=212, acceleration=1) # Variables from METR paper\n",
    "    measurement_error_variance = sq.invlognorm(0.8, 1.5) # Add easurement error on tasks: SD fit to trend variance from Figure 12\n",
    "    return days * measurement_error_variance\n",
    "\n",
    "_ = run_model(metr_model, index_date=CLAUDE_3P7_LAUNCH_DATE) # Results should look similar to Figure 12"
   ]
  },
  {
   "cell_type": "code",
   "execution_count": 3,
   "id": "d951bb5d-aea5-46b8-9ccd-7c23be6f7b2a",
   "metadata": {},
   "outputs": [
    {
     "name": "stderr",
     "output_type": "stream",
     "text": [
      "100%|██████████████████████████████████████████████████████████████████████████| 100000/100000 [00:06<00:00, 15203.43it/s]\n",
      "100%|██████████████████████████████████████████████████████████████████████████| 100000/100000 [00:08<00:00, 12435.94it/s]\n"
     ]
    },
    {
     "name": "stdout",
     "output_type": "stream",
     "text": [
      "{1: 544,\n",
      " 5: 620,\n",
      " 10: 665,\n",
      " 20: 724,\n",
      " 30: 770,\n",
      " 40: 810,\n",
      " 50: 851,\n",
      " 60: 892,\n",
      " 70: 939,\n",
      " 80: 998,\n",
      " 90: 1086,\n",
      " 95: 1164,\n",
      " 99: 1327}\n",
      "\n",
      "-\n",
      "\n",
      "{1: '2026 Oct 13',\n",
      " 5: '2026 Dec 28',\n",
      " 10: '2027 Feb 11',\n",
      " 20: '2027 Apr 10',\n",
      " 30: '2027 May 26',\n",
      " 40: '2027 Jul 05',\n",
      " 50: '2027 Aug 15',\n",
      " 60: '2027 Sep 26',\n",
      " 70: '2027 Nov 12',\n",
      " 80: '2028 Jan 10',\n",
      " 90: '2028 Apr 07',\n",
      " 95: '2028 Jun 23',\n",
      " 99: '2028 Dec 04'}\n"
     ]
    }
   ],
   "source": [
    "def metr_model_with_o3():\n",
    "    days = calculate_doubling_time(start_task_length=1.75, agi_task_length=167, doubling_time=118, acceleration=1) # Use o3 task length, o3 launch date, and the 2024-2025 doubling time\n",
    "    measurement_error_variance = sq.invlognorm(0.8, 1.5) # Add measurement error on tasks: SD fit to trend variance from Figure 12\n",
    "    return days * measurement_error_variance\n",
    "\n",
    "_ = run_model(metr_model_with_o3, index_date=O3_LAUNCH_DATE)"
   ]
  },
  {
   "cell_type": "code",
   "execution_count": 4,
   "id": "75d648b4-0e52-4950-8449-368f9b688b18",
   "metadata": {},
   "outputs": [
    {
     "name": "stderr",
     "output_type": "stream",
     "text": [
      "100%|██████████████████████████████████████████████████████████████████████████| 100000/100000 [00:01<00:00, 99761.96it/s]\n",
      "100%|██████████████████████████████████████████████████████████████████████████| 100000/100000 [00:04<00:00, 20268.61it/s]\n"
     ]
    },
    {
     "name": "stdout",
     "output_type": "stream",
     "text": [
      "{1: 1778,\n",
      " 5: 1778,\n",
      " 10: 1778,\n",
      " 20: 1778,\n",
      " 30: 1778,\n",
      " 40: 1778,\n",
      " 50: 1778,\n",
      " 60: 1778,\n",
      " 70: 1778,\n",
      " 80: 1778,\n",
      " 90: 1778,\n",
      " 95: 1778,\n",
      " 99: 1778}\n",
      "\n",
      "-\n",
      "\n",
      "{1: '2030 Feb 28',\n",
      " 5: '2030 Feb 28',\n",
      " 10: '2030 Feb 28',\n",
      " 20: '2030 Feb 28',\n",
      " 30: '2030 Feb 28',\n",
      " 40: '2030 Feb 28',\n",
      " 50: '2030 Feb 28',\n",
      " 60: '2030 Feb 28',\n",
      " 70: '2030 Feb 28',\n",
      " 80: '2030 Feb 28',\n",
      " 90: '2030 Feb 28',\n",
      " 95: '2030 Feb 28',\n",
      " 99: '2030 Feb 28'}\n"
     ]
    }
   ],
   "source": [
    "# The simpler model with static variables from my Substack\n",
    "def simple_model():\n",
    "    days = calculate_doubling_time(start_task_length=3.75/60, agi_task_length=167, doubling_time=165, acceleration=1)\n",
    "    shift = 100\n",
    "    return days - shift\n",
    "\n",
    "_ = run_model(simple_model, index_date=O3_LAUNCH_DATE)"
   ]
  }
 ],
 "metadata": {
  "kernelspec": {
   "display_name": "Python 3 (ipykernel)",
   "language": "python",
   "name": "python3"
  },
  "language_info": {
   "codemirror_mode": {
    "name": "ipython",
    "version": 3
   },
   "file_extension": ".py",
   "mimetype": "text/x-python",
   "name": "python",
   "nbconvert_exporter": "python",
   "pygments_lexer": "ipython3",
   "version": "3.11.0"
  }
 },
 "nbformat": 4,
 "nbformat_minor": 5
}
