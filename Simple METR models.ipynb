{
 "cells": [
  {
   "cell_type": "code",
   "execution_count": 1,
   "id": "80c7139f-0c0a-47bb-918d-adb0a3d03769",
   "metadata": {},
   "outputs": [
    {
     "name": "stdout",
     "output_type": "stream",
     "text": [
      "Loaded libraries\n"
     ]
    }
   ],
   "source": [
    "import squigglepy as sq\n",
    "from datetime import datetime\n",
    "from libs import run_model, calculate_doubling_time\n",
    "\n",
    "\n",
    "O3_LAUNCH_DATE = datetime(2025, 4, 16)\n",
    "CLAUDE_3P7_LAUNCH_DATE = datetime(2025, 2, 24)\n",
    "\n",
    "print('Loaded libraries')"
   ]
  },
  {
   "cell_type": "code",
   "execution_count": 2,
   "id": "0a5c04a0-69fe-40d8-b26b-fe7c2ae9e6b5",
   "metadata": {},
   "outputs": [
    {
     "name": "stderr",
     "output_type": "stream",
     "text": [
      "100%|███████████████████████████████████████████████████████████████████████████| 100000/100000 [00:52<00:00, 1902.39it/s]\n",
      "100%|███████████████████████████████████████████████████████████████████████████| 100000/100000 [00:40<00:00, 2480.65it/s]\n"
     ]
    },
    {
     "name": "stdout",
     "output_type": "stream",
     "text": [
      "{1: 1098,\n",
      " 5: 1252,\n",
      " 10: 1340,\n",
      " 20: 1458,\n",
      " 30: 1551,\n",
      " 40: 1633,\n",
      " 50: 1716,\n",
      " 60: 1801,\n",
      " 70: 1897,\n",
      " 80: 2017,\n",
      " 90: 2193,\n",
      " 95: 2350,\n",
      " 99: 2678}\n",
      "\n",
      "-\n",
      "\n",
      "{1: '2028 Feb 28',\n",
      " 5: '2028 Jul 30',\n",
      " 10: '2028 Oct 26',\n",
      " 20: '2029 Feb 22',\n",
      " 30: '2029 May 26',\n",
      " 40: '2029 Aug 16',\n",
      " 50: '2029 Nov 06',\n",
      " 60: '2030 Jan 30',\n",
      " 70: '2030 May 07',\n",
      " 80: '2030 Sep 03',\n",
      " 90: '2031 Feb 26',\n",
      " 95: '2031 Aug 03',\n",
      " 99: '2032 Jun 25'}\n"
     ]
    }
   ],
   "source": [
    "def metr_model():\n",
    "    days = calculate_doubling_time(start_task_length=1, agi_task_length=167, doubling_time=212, acceleration=1) # Variables from METR paper\n",
    "    measurement_error_variance = sq.invlognorm(0.8, 1.5) # Add easurement error on tasks: SD fit to trend variance from Figure 12\n",
    "    return days * measurement_error_variance\n",
    "\n",
    "_ = run_model(metr_model, index_date=CLAUDE_3P7_LAUNCH_DATE) # Results should look similar to Figure 12"
   ]
  },
  {
   "cell_type": "code",
   "execution_count": 3,
   "id": "d951bb5d-aea5-46b8-9ccd-7c23be6f7b2a",
   "metadata": {},
   "outputs": [
    {
     "name": "stderr",
     "output_type": "stream",
     "text": [
      "100%|████████████████████████████████████████████████████████████████████████████| 100000/100000 [02:36<00:00, 639.61it/s]\n",
      "100%|██████████████████████████████████████████████████████████████████████████| 100000/100000 [00:07<00:00, 13309.60it/s]\n"
     ]
    },
    {
     "name": "stdout",
     "output_type": "stream",
     "text": [
      "{1: 544,\n",
      " 5: 620,\n",
      " 10: 665,\n",
      " 20: 723,\n",
      " 30: 767,\n",
      " 40: 808,\n",
      " 50: 849,\n",
      " 60: 891,\n",
      " 70: 939,\n",
      " 80: 997,\n",
      " 90: 1085,\n",
      " 95: 1163,\n",
      " 99: 1324}\n",
      "\n",
      "-\n",
      "\n",
      "{1: '2026 Oct 12',\n",
      " 5: '2026 Dec 28',\n",
      " 10: '2027 Feb 11',\n",
      " 20: '2027 Apr 10',\n",
      " 30: '2027 May 24',\n",
      " 40: '2027 Jul 04',\n",
      " 50: '2027 Aug 13',\n",
      " 60: '2027 Sep 25',\n",
      " 70: '2027 Nov 11',\n",
      " 80: '2028 Jan 09',\n",
      " 90: '2028 Apr 06',\n",
      " 95: '2028 Jun 23',\n",
      " 99: '2028 Nov 30'}\n"
     ]
    }
   ],
   "source": [
    "def metr_model_with_o3():\n",
    "    days = calculate_doubling_time(start_task_length=1.75, agi_task_length=167, doubling_time=118, acceleration=1) # Use o3 task length, o3 launch date, and the 2024-2025 doubling time\n",
    "    measurement_error_variance = sq.invlognorm(0.8, 1.5) # Add measurement error on tasks: SD fit to trend variance from Figure 12\n",
    "    return days * measurement_error_variance\n",
    "\n",
    "_ = run_model(metr_model_with_o3, index_date=O3_LAUNCH_DATE)"
   ]
  },
  {
   "cell_type": "code",
   "execution_count": 4,
   "id": "75d648b4-0e52-4950-8449-368f9b688b18",
   "metadata": {},
   "outputs": [
    {
     "name": "stderr",
     "output_type": "stream",
     "text": [
      "100%|█████████████████████████████████████████████████████████████████████████| 100000/100000 [00:00<00:00, 102784.66it/s]\n",
      "100%|██████████████████████████████████████████████████████████████████████████| 100000/100000 [00:04<00:00, 21240.33it/s]\n"
     ]
    },
    {
     "name": "stdout",
     "output_type": "stream",
     "text": [
      "{1: 1778,\n",
      " 5: 1778,\n",
      " 10: 1778,\n",
      " 20: 1778,\n",
      " 30: 1778,\n",
      " 40: 1778,\n",
      " 50: 1778,\n",
      " 60: 1778,\n",
      " 70: 1778,\n",
      " 80: 1778,\n",
      " 90: 1778,\n",
      " 95: 1778,\n",
      " 99: 1778}\n",
      "\n",
      "-\n",
      "\n",
      "{1: '2030 Feb 28',\n",
      " 5: '2030 Feb 28',\n",
      " 10: '2030 Feb 28',\n",
      " 20: '2030 Feb 28',\n",
      " 30: '2030 Feb 28',\n",
      " 40: '2030 Feb 28',\n",
      " 50: '2030 Feb 28',\n",
      " 60: '2030 Feb 28',\n",
      " 70: '2030 Feb 28',\n",
      " 80: '2030 Feb 28',\n",
      " 90: '2030 Feb 28',\n",
      " 95: '2030 Feb 28',\n",
      " 99: '2030 Feb 28'}\n"
     ]
    }
   ],
   "source": [
    "# The simpler model with static variables from my Substack\n",
    "def simple_model():\n",
    "    days = calculate_doubling_time(start_task_length=3.75/60, agi_task_length=167, doubling_time=165, acceleration=1)\n",
    "    shift = 100\n",
    "    return days - shift\n",
    "\n",
    "_ = run_model(simple_model, index_date=O3_LAUNCH_DATE)"
   ]
  }
 ],
 "metadata": {
  "kernelspec": {
   "display_name": "Python 3 (ipykernel)",
   "language": "python",
   "name": "python3"
  },
  "language_info": {
   "codemirror_mode": {
    "name": "ipython",
    "version": 3
   },
   "file_extension": ".py",
   "mimetype": "text/x-python",
   "name": "python",
   "nbconvert_exporter": "python",
   "pygments_lexer": "ipython3",
   "version": "3.11.0"
  }
 },
 "nbformat": 4,
 "nbformat_minor": 5
}
