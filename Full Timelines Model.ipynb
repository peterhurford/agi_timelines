{
 "cells": [
  {
   "cell_type": "code",
   "execution_count": 1,
   "id": "c4a5d6b3-f5c7-4422-bcae-77134d4f4469",
   "metadata": {},
   "outputs": [
    {
     "name": "stdout",
     "output_type": "stream",
     "text": [
      "## START task length (displayed in min) ##\n",
      "{1: 0.02,\n",
      " 5: 0.02,\n",
      " 10: 0.03,\n",
      " 20: 0.1,\n",
      " 30: 0.24,\n",
      " 40: 0.51,\n",
      " 50: 1.0,\n",
      " 60: 2.01,\n",
      " 70: 4.02,\n",
      " 80: 8.4,\n",
      " 90: 24.32,\n",
      " 95: 52.45,\n",
      " 99: 227.76}\n",
      "\n",
      "\n",
      "\n",
      "## AGI task length (displayed in hrs) ##\n",
      "{1: 40,\n",
      " 5: 51,\n",
      " 10: 80,\n",
      " 20: 138,\n",
      " 30: 207,\n",
      " 40: 292,\n",
      " 50: 401,\n",
      " 60: 552,\n",
      " 70: 775,\n",
      " 80: 1149,\n",
      " 90: 1983,\n",
      " 95: 3138,\n",
      " 99: 7453}\n",
      "\n",
      "\n",
      "\n",
      "## DOUBLING TIME (displayed in days) ##\n",
      "{1: 115,\n",
      " 5: 118,\n",
      " 10: 118,\n",
      " 20: 147,\n",
      " 30: 165,\n",
      " 40: 181,\n",
      " 50: 199,\n",
      " 60: 212,\n",
      " 70: 212,\n",
      " 80: 212,\n",
      " 90: 223,\n",
      " 95: 243,\n",
      " 99: 286}\n",
      "\n",
      "\n",
      "\n",
      "## ACCELERATION (displayed in days)\n",
      "{1: 0.897,\n",
      " 5: 0.977,\n",
      " 10: 0.999,\n",
      " 20: 1.0,\n",
      " 30: 1.0,\n",
      " 40: 1.0,\n",
      " 50: 1.0,\n",
      " 60: 1.0,\n",
      " 70: 1.0,\n",
      " 80: 1.0,\n",
      " 90: 1.001,\n",
      " 95: 1.022,\n",
      " 99: 1.099}\n",
      "\n",
      "\n",
      "\n",
      "## SHIFT (displayed in days) ##\n",
      "{1: 0,\n",
      " 5: 13,\n",
      " 10: 30,\n",
      " 20: 51,\n",
      " 30: 65,\n",
      " 40: 78,\n",
      " 50: 90,\n",
      " 60: 102,\n",
      " 70: 114,\n",
      " 80: 129,\n",
      " 90: 150,\n",
      " 95: 167,\n",
      " 99: 199}\n",
      "Loaded libraries\n"
     ]
    }
   ],
   "source": [
    "import squigglepy as sq\n",
    "import numpy as np\n",
    "\n",
    "from datetime import datetime\n",
    "from pprint import pprint\n",
    "\n",
    "from libs import run_model, calculate_doubling_time, plot_exponential_growth, analyze_agi_arrival\n",
    "from params import start_task_length, agi_task_length, doubling_time, acceleration, shift\n",
    "\n",
    "\n",
    "O3_LAUNCH_DATE = datetime(2025, 4, 16)\n",
    "CLAUDE_3P7_LAUNCH_DATE = datetime(2025, 2, 24)\n",
    "\n",
    "print('Loaded libraries')"
   ]
  },
  {
   "cell_type": "code",
   "execution_count": null,
   "id": "9a9a416d-b871-411e-a806-13caaf19790c",
   "metadata": {},
   "outputs": [
    {
     "name": "stdout",
     "output_type": "stream",
     "text": [
      "Generating samples with 4 cores...\n"
     ]
    },
    {
     "name": "stderr",
     "output_type": "stream",
     "text": [
      "100%|██████████████████████████████████████████████████████████████████████████| 100000/100000 [00:01<00:00, 51868.13it/s]\n",
      " 70%|█████████████████████████████████████████████████████▎                      | 70100/100000 [00:14<00:06, 4896.96it/s]"
     ]
    }
   ],
   "source": [
    "def adapted_metr_model():\n",
    "    start_task_length_ = start_task_length * (2 ** (shift / doubling_time))\n",
    "    days = calculate_doubling_time(start_task_length_, agi_task_length, doubling_time, acceleration)\n",
    "    measurement_error_variance = sq.invlognorm(0.8, 1.5) # Add measurement error on tasks: SD fit to trend variance from Figure 12\n",
    "    return days * measurement_error_variance\n",
    "\n",
    "samples = run_model(adapted_metr_model, index_date=O3_LAUNCH_DATE, cores=4)"
   ]
  },
  {
   "cell_type": "code",
   "execution_count": null,
   "id": "225c0bf0-9e89-4568-95f4-098bf15b8338",
   "metadata": {},
   "outputs": [],
   "source": [
    "analyze_agi_arrival(samples)"
   ]
  },
  {
   "cell_type": "code",
   "execution_count": null,
   "id": "1d9d01b0-192d-4a6b-893c-4ac4a5ec5961",
   "metadata": {},
   "outputs": [],
   "source": [
    "plot_exponential_growth(\n",
    "    doubling_time_days=doubling_time,\n",
    "    starting_hours=start_task_length,\n",
    "    agi_task_length=agi_task_length,\n",
    "    shift=shift,\n",
    "    acceleration=acceleration,\n",
    "    n_quarters=51,\n",
    "    n_samples=100_000,\n",
    "    n_traces=200,\n",
    "    max_task_power=13,\n",
    "    min_y_power=-15,\n",
    ")"
   ]
  }
 ],
 "metadata": {
  "kernelspec": {
   "display_name": "Python 3 (ipykernel)",
   "language": "python",
   "name": "python3"
  },
  "language_info": {
   "codemirror_mode": {
    "name": "ipython",
    "version": 3
   },
   "file_extension": ".py",
   "mimetype": "text/x-python",
   "name": "python",
   "nbconvert_exporter": "python",
   "pygments_lexer": "ipython3",
   "version": "3.11.0"
  }
 },
 "nbformat": 4,
 "nbformat_minor": 5
}
